{
  "cells": [
    {
      "cell_type": "markdown",
      "metadata": {
        "id": "view-in-github",
        "colab_type": "text"
      },
      "source": [
        "<a href=\"https://colab.research.google.com/github/this-amj/Sentiment-Analysis/blob/main/Project_NLP.ipynb\" target=\"_parent\"><img src=\"https://colab.research.google.com/assets/colab-badge.svg\" alt=\"Open In Colab\"/></a>"
      ]
    },
    {
      "cell_type": "code",
      "execution_count": null,
      "metadata": {
        "id": "KeHT7xokaQrq"
      },
      "outputs": [],
      "source": [
        "import numpy as np\n",
        "import pandas as pd\n",
        "import nltk as nltk"
      ]
    },
    {
      "cell_type": "markdown",
      "metadata": {
        "id": "ak0RdYaro1v4"
      },
      "source": [
        "Read dataset and store it in DataFrame"
      ]
    },
    {
      "cell_type": "code",
      "execution_count": null,
      "metadata": {
        "colab": {
          "base_uri": "https://localhost:8080/",
          "height": 206
        },
        "id": "vC2SOVsnbyT-",
        "outputId": "640ea098-8c95-4d5b-b6a3-50a1c1b7748f"
      },
      "outputs": [
        {
          "output_type": "execute_result",
          "data": {
            "text/plain": [
              "      label                                               text\n",
              "0     Mixed  هو بلا شك جدل لا ينتهي إلا ليبدأ، جدل يتصارع د...\n",
              "1  Negative  لم اكن قد قرأت نصف الرواية حين اشمأزيت من كثرة...\n",
              "2  Negative  لو ده يعتبر كتاب ، فأنا علي كده كتبت كتب كتيرة...\n",
              "3     Mixed  في ذلك الكتاب للرائع أحمد بهجت رحمة الله عليه ...\n",
              "4     Mixed  الانطباع العام: جيد لكن ليس كما توقعته. فيه قص..."
            ],
            "text/html": [
              "\n",
              "  <div id=\"df-1953b204-cdf0-4aa4-935a-f214905872e7\">\n",
              "    <div class=\"colab-df-container\">\n",
              "      <div>\n",
              "<style scoped>\n",
              "    .dataframe tbody tr th:only-of-type {\n",
              "        vertical-align: middle;\n",
              "    }\n",
              "\n",
              "    .dataframe tbody tr th {\n",
              "        vertical-align: top;\n",
              "    }\n",
              "\n",
              "    .dataframe thead th {\n",
              "        text-align: right;\n",
              "    }\n",
              "</style>\n",
              "<table border=\"1\" class=\"dataframe\">\n",
              "  <thead>\n",
              "    <tr style=\"text-align: right;\">\n",
              "      <th></th>\n",
              "      <th>label</th>\n",
              "      <th>text</th>\n",
              "    </tr>\n",
              "  </thead>\n",
              "  <tbody>\n",
              "    <tr>\n",
              "      <th>0</th>\n",
              "      <td>Mixed</td>\n",
              "      <td>هو بلا شك جدل لا ينتهي إلا ليبدأ، جدل يتصارع د...</td>\n",
              "    </tr>\n",
              "    <tr>\n",
              "      <th>1</th>\n",
              "      <td>Negative</td>\n",
              "      <td>لم اكن قد قرأت نصف الرواية حين اشمأزيت من كثرة...</td>\n",
              "    </tr>\n",
              "    <tr>\n",
              "      <th>2</th>\n",
              "      <td>Negative</td>\n",
              "      <td>لو ده يعتبر كتاب ، فأنا علي كده كتبت كتب كتيرة...</td>\n",
              "    </tr>\n",
              "    <tr>\n",
              "      <th>3</th>\n",
              "      <td>Mixed</td>\n",
              "      <td>في ذلك الكتاب للرائع أحمد بهجت رحمة الله عليه ...</td>\n",
              "    </tr>\n",
              "    <tr>\n",
              "      <th>4</th>\n",
              "      <td>Mixed</td>\n",
              "      <td>الانطباع العام: جيد لكن ليس كما توقعته. فيه قص...</td>\n",
              "    </tr>\n",
              "  </tbody>\n",
              "</table>\n",
              "</div>\n",
              "      <button class=\"colab-df-convert\" onclick=\"convertToInteractive('df-1953b204-cdf0-4aa4-935a-f214905872e7')\"\n",
              "              title=\"Convert this dataframe to an interactive table.\"\n",
              "              style=\"display:none;\">\n",
              "        \n",
              "  <svg xmlns=\"http://www.w3.org/2000/svg\" height=\"24px\"viewBox=\"0 0 24 24\"\n",
              "       width=\"24px\">\n",
              "    <path d=\"M0 0h24v24H0V0z\" fill=\"none\"/>\n",
              "    <path d=\"M18.56 5.44l.94 2.06.94-2.06 2.06-.94-2.06-.94-.94-2.06-.94 2.06-2.06.94zm-11 1L8.5 8.5l.94-2.06 2.06-.94-2.06-.94L8.5 2.5l-.94 2.06-2.06.94zm10 10l.94 2.06.94-2.06 2.06-.94-2.06-.94-.94-2.06-.94 2.06-2.06.94z\"/><path d=\"M17.41 7.96l-1.37-1.37c-.4-.4-.92-.59-1.43-.59-.52 0-1.04.2-1.43.59L10.3 9.45l-7.72 7.72c-.78.78-.78 2.05 0 2.83L4 21.41c.39.39.9.59 1.41.59.51 0 1.02-.2 1.41-.59l7.78-7.78 2.81-2.81c.8-.78.8-2.07 0-2.86zM5.41 20L4 18.59l7.72-7.72 1.47 1.35L5.41 20z\"/>\n",
              "  </svg>\n",
              "      </button>\n",
              "      \n",
              "  <style>\n",
              "    .colab-df-container {\n",
              "      display:flex;\n",
              "      flex-wrap:wrap;\n",
              "      gap: 12px;\n",
              "    }\n",
              "\n",
              "    .colab-df-convert {\n",
              "      background-color: #E8F0FE;\n",
              "      border: none;\n",
              "      border-radius: 50%;\n",
              "      cursor: pointer;\n",
              "      display: none;\n",
              "      fill: #1967D2;\n",
              "      height: 32px;\n",
              "      padding: 0 0 0 0;\n",
              "      width: 32px;\n",
              "    }\n",
              "\n",
              "    .colab-df-convert:hover {\n",
              "      background-color: #E2EBFA;\n",
              "      box-shadow: 0px 1px 2px rgba(60, 64, 67, 0.3), 0px 1px 3px 1px rgba(60, 64, 67, 0.15);\n",
              "      fill: #174EA6;\n",
              "    }\n",
              "\n",
              "    [theme=dark] .colab-df-convert {\n",
              "      background-color: #3B4455;\n",
              "      fill: #D2E3FC;\n",
              "    }\n",
              "\n",
              "    [theme=dark] .colab-df-convert:hover {\n",
              "      background-color: #434B5C;\n",
              "      box-shadow: 0px 1px 3px 1px rgba(0, 0, 0, 0.15);\n",
              "      filter: drop-shadow(0px 1px 2px rgba(0, 0, 0, 0.3));\n",
              "      fill: #FFFFFF;\n",
              "    }\n",
              "  </style>\n",
              "\n",
              "      <script>\n",
              "        const buttonEl =\n",
              "          document.querySelector('#df-1953b204-cdf0-4aa4-935a-f214905872e7 button.colab-df-convert');\n",
              "        buttonEl.style.display =\n",
              "          google.colab.kernel.accessAllowed ? 'block' : 'none';\n",
              "\n",
              "        async function convertToInteractive(key) {\n",
              "          const element = document.querySelector('#df-1953b204-cdf0-4aa4-935a-f214905872e7');\n",
              "          const dataTable =\n",
              "            await google.colab.kernel.invokeFunction('convertToInteractive',\n",
              "                                                     [key], {});\n",
              "          if (!dataTable) return;\n",
              "\n",
              "          const docLinkHtml = 'Like what you see? Visit the ' +\n",
              "            '<a target=\"_blank\" href=https://colab.research.google.com/notebooks/data_table.ipynb>data table notebook</a>'\n",
              "            + ' to learn more about interactive tables.';\n",
              "          element.innerHTML = '';\n",
              "          dataTable['output_type'] = 'display_data';\n",
              "          await google.colab.output.renderOutput(dataTable, element);\n",
              "          const docLink = document.createElement('div');\n",
              "          docLink.innerHTML = docLinkHtml;\n",
              "          element.appendChild(docLink);\n",
              "        }\n",
              "      </script>\n",
              "    </div>\n",
              "  </div>\n",
              "  "
            ]
          },
          "metadata": {},
          "execution_count": 32
        }
      ],
      "source": [
        "reviews_df = pd.read_csv(\"/content/reduced_dataset.tsv\",sep='\\t')\n",
        "reviews_df.head(5)"
      ]
    },
    {
      "cell_type": "markdown",
      "metadata": {
        "id": "GQjy2yZZog4K"
      },
      "source": [
        "Choose only Books/Novels entries/Reduce dataset"
      ]
    },
    {
      "cell_type": "code",
      "execution_count": null,
      "metadata": {
        "id": "BpJJFl48KzsO"
      },
      "outputs": [],
      "source": [
        "## Function for selecting books/novels reviews only\n",
        "\n",
        "from nltk.tree.tree import Nonterminal\n",
        "def books(text):\n",
        "  for i in text.split(\" \"):\n",
        "    if i in ['رواية','الرواية','كتاب','الكتاب','الكاتب','المؤلف','الحبكة']:\n",
        "      return text\n",
        "  return None"
      ]
    },
    {
      "cell_type": "code",
      "execution_count": null,
      "metadata": {
        "colab": {
          "base_uri": "https://localhost:8080/",
          "height": 363
        },
        "id": "AGy6qE-1De3D",
        "outputId": "87b9780c-76ac-4f25-833d-45a03e36988f"
      },
      "outputs": [
        {
          "output_type": "execute_result",
          "data": {
            "text/plain": [
              "      label                                               text\n",
              "0     Mixed  هو بلا شك جدل لا ينتهي إلا ليبدأ، جدل يتصارع د...\n",
              "1  Negative  لم اكن قد قرأت نصف الرواية حين اشمأزيت من كثرة...\n",
              "2  Negative  لو ده يعتبر كتاب ، فأنا علي كده كتبت كتب كتيرة...\n",
              "3     Mixed  في ذلك الكتاب للرائع أحمد بهجت رحمة الله عليه ...\n",
              "4     Mixed  الانطباع العام: جيد لكن ليس كما توقعته. فيه قص...\n",
              "5  Negative  تتلخص فكرة الكتاب في ان هناك ثلاثة نقاط تجتمع ...\n",
              "6  Negative  مستوى الكتاب أقل بكثير من المتوقع من الدكتور ج...\n",
              "7  Positive  لقد فتحت الرواية خزائن مشاعر آثرت أن أواريها م...\n",
              "8  Negative  مستفزة لأبعد الحدود. معلش كبداية فين علامات ال...\n",
              "9  Negative  سأعترف أني لم أنهي هذا الكتاب وتوقفت بعد قراءة..."
            ],
            "text/html": [
              "\n",
              "  <div id=\"df-fd00274c-94d3-46e9-ab20-f93927375b77\">\n",
              "    <div class=\"colab-df-container\">\n",
              "      <div>\n",
              "<style scoped>\n",
              "    .dataframe tbody tr th:only-of-type {\n",
              "        vertical-align: middle;\n",
              "    }\n",
              "\n",
              "    .dataframe tbody tr th {\n",
              "        vertical-align: top;\n",
              "    }\n",
              "\n",
              "    .dataframe thead th {\n",
              "        text-align: right;\n",
              "    }\n",
              "</style>\n",
              "<table border=\"1\" class=\"dataframe\">\n",
              "  <thead>\n",
              "    <tr style=\"text-align: right;\">\n",
              "      <th></th>\n",
              "      <th>label</th>\n",
              "      <th>text</th>\n",
              "    </tr>\n",
              "  </thead>\n",
              "  <tbody>\n",
              "    <tr>\n",
              "      <th>0</th>\n",
              "      <td>Mixed</td>\n",
              "      <td>هو بلا شك جدل لا ينتهي إلا ليبدأ، جدل يتصارع د...</td>\n",
              "    </tr>\n",
              "    <tr>\n",
              "      <th>1</th>\n",
              "      <td>Negative</td>\n",
              "      <td>لم اكن قد قرأت نصف الرواية حين اشمأزيت من كثرة...</td>\n",
              "    </tr>\n",
              "    <tr>\n",
              "      <th>2</th>\n",
              "      <td>Negative</td>\n",
              "      <td>لو ده يعتبر كتاب ، فأنا علي كده كتبت كتب كتيرة...</td>\n",
              "    </tr>\n",
              "    <tr>\n",
              "      <th>3</th>\n",
              "      <td>Mixed</td>\n",
              "      <td>في ذلك الكتاب للرائع أحمد بهجت رحمة الله عليه ...</td>\n",
              "    </tr>\n",
              "    <tr>\n",
              "      <th>4</th>\n",
              "      <td>Mixed</td>\n",
              "      <td>الانطباع العام: جيد لكن ليس كما توقعته. فيه قص...</td>\n",
              "    </tr>\n",
              "    <tr>\n",
              "      <th>5</th>\n",
              "      <td>Negative</td>\n",
              "      <td>تتلخص فكرة الكتاب في ان هناك ثلاثة نقاط تجتمع ...</td>\n",
              "    </tr>\n",
              "    <tr>\n",
              "      <th>6</th>\n",
              "      <td>Negative</td>\n",
              "      <td>مستوى الكتاب أقل بكثير من المتوقع من الدكتور ج...</td>\n",
              "    </tr>\n",
              "    <tr>\n",
              "      <th>7</th>\n",
              "      <td>Positive</td>\n",
              "      <td>لقد فتحت الرواية خزائن مشاعر آثرت أن أواريها م...</td>\n",
              "    </tr>\n",
              "    <tr>\n",
              "      <th>8</th>\n",
              "      <td>Negative</td>\n",
              "      <td>مستفزة لأبعد الحدود. معلش كبداية فين علامات ال...</td>\n",
              "    </tr>\n",
              "    <tr>\n",
              "      <th>9</th>\n",
              "      <td>Negative</td>\n",
              "      <td>سأعترف أني لم أنهي هذا الكتاب وتوقفت بعد قراءة...</td>\n",
              "    </tr>\n",
              "  </tbody>\n",
              "</table>\n",
              "</div>\n",
              "      <button class=\"colab-df-convert\" onclick=\"convertToInteractive('df-fd00274c-94d3-46e9-ab20-f93927375b77')\"\n",
              "              title=\"Convert this dataframe to an interactive table.\"\n",
              "              style=\"display:none;\">\n",
              "        \n",
              "  <svg xmlns=\"http://www.w3.org/2000/svg\" height=\"24px\"viewBox=\"0 0 24 24\"\n",
              "       width=\"24px\">\n",
              "    <path d=\"M0 0h24v24H0V0z\" fill=\"none\"/>\n",
              "    <path d=\"M18.56 5.44l.94 2.06.94-2.06 2.06-.94-2.06-.94-.94-2.06-.94 2.06-2.06.94zm-11 1L8.5 8.5l.94-2.06 2.06-.94-2.06-.94L8.5 2.5l-.94 2.06-2.06.94zm10 10l.94 2.06.94-2.06 2.06-.94-2.06-.94-.94-2.06-.94 2.06-2.06.94z\"/><path d=\"M17.41 7.96l-1.37-1.37c-.4-.4-.92-.59-1.43-.59-.52 0-1.04.2-1.43.59L10.3 9.45l-7.72 7.72c-.78.78-.78 2.05 0 2.83L4 21.41c.39.39.9.59 1.41.59.51 0 1.02-.2 1.41-.59l7.78-7.78 2.81-2.81c.8-.78.8-2.07 0-2.86zM5.41 20L4 18.59l7.72-7.72 1.47 1.35L5.41 20z\"/>\n",
              "  </svg>\n",
              "      </button>\n",
              "      \n",
              "  <style>\n",
              "    .colab-df-container {\n",
              "      display:flex;\n",
              "      flex-wrap:wrap;\n",
              "      gap: 12px;\n",
              "    }\n",
              "\n",
              "    .colab-df-convert {\n",
              "      background-color: #E8F0FE;\n",
              "      border: none;\n",
              "      border-radius: 50%;\n",
              "      cursor: pointer;\n",
              "      display: none;\n",
              "      fill: #1967D2;\n",
              "      height: 32px;\n",
              "      padding: 0 0 0 0;\n",
              "      width: 32px;\n",
              "    }\n",
              "\n",
              "    .colab-df-convert:hover {\n",
              "      background-color: #E2EBFA;\n",
              "      box-shadow: 0px 1px 2px rgba(60, 64, 67, 0.3), 0px 1px 3px 1px rgba(60, 64, 67, 0.15);\n",
              "      fill: #174EA6;\n",
              "    }\n",
              "\n",
              "    [theme=dark] .colab-df-convert {\n",
              "      background-color: #3B4455;\n",
              "      fill: #D2E3FC;\n",
              "    }\n",
              "\n",
              "    [theme=dark] .colab-df-convert:hover {\n",
              "      background-color: #434B5C;\n",
              "      box-shadow: 0px 1px 3px 1px rgba(0, 0, 0, 0.15);\n",
              "      filter: drop-shadow(0px 1px 2px rgba(0, 0, 0, 0.3));\n",
              "      fill: #FFFFFF;\n",
              "    }\n",
              "  </style>\n",
              "\n",
              "      <script>\n",
              "        const buttonEl =\n",
              "          document.querySelector('#df-fd00274c-94d3-46e9-ab20-f93927375b77 button.colab-df-convert');\n",
              "        buttonEl.style.display =\n",
              "          google.colab.kernel.accessAllowed ? 'block' : 'none';\n",
              "\n",
              "        async function convertToInteractive(key) {\n",
              "          const element = document.querySelector('#df-fd00274c-94d3-46e9-ab20-f93927375b77');\n",
              "          const dataTable =\n",
              "            await google.colab.kernel.invokeFunction('convertToInteractive',\n",
              "                                                     [key], {});\n",
              "          if (!dataTable) return;\n",
              "\n",
              "          const docLinkHtml = 'Like what you see? Visit the ' +\n",
              "            '<a target=\"_blank\" href=https://colab.research.google.com/notebooks/data_table.ipynb>data table notebook</a>'\n",
              "            + ' to learn more about interactive tables.';\n",
              "          element.innerHTML = '';\n",
              "          dataTable['output_type'] = 'display_data';\n",
              "          await google.colab.output.renderOutput(dataTable, element);\n",
              "          const docLink = document.createElement('div');\n",
              "          docLink.innerHTML = docLinkHtml;\n",
              "          element.appendChild(docLink);\n",
              "        }\n",
              "      </script>\n",
              "    </div>\n",
              "  </div>\n",
              "  "
            ]
          },
          "metadata": {},
          "execution_count": 34
        }
      ],
      "source": [
        "## remove all the None rows from reviews_df\n",
        "reviews_df['text']=reviews_df['text'].apply(lambda x: books(x))\n",
        "reviews_df = reviews_df.dropna(axis = 0)\n",
        "reviews_df.reset_index()\n",
        "reviews_df.head(10)"
      ]
    },
    {
      "cell_type": "code",
      "execution_count": null,
      "metadata": {
        "colab": {
          "base_uri": "https://localhost:8080/",
          "height": 70
        },
        "id": "iob0yx2049sS",
        "outputId": "dad52d92-9833-482b-cbae-23ec2a07147c"
      },
      "outputs": [
        {
          "output_type": "execute_result",
          "data": {
            "text/plain": [
              "'## Reducing the size of the dataset since the Lemmatize function takes too long\\n# Create a new dataframe with the minimum number of rows for each label\\nreduced_df = reviews_df.sample(frac=0.13)\\nreviews_df = reduced_df\\n# Save the reduced dataframe\\nreduced_df.to_csv(\"reduced_dataset.csv\", index=False)\\n'"
            ],
            "application/vnd.google.colaboratory.intrinsic+json": {
              "type": "string"
            }
          },
          "metadata": {},
          "execution_count": 35
        }
      ],
      "source": [
        "'''## Reducing the size of the dataset since the Lemmatize function takes too long\n",
        "# Create a new dataframe with the minimum number of rows for each label\n",
        "reduced_df = reviews_df.sample(frac=0.13)\n",
        "reviews_df = reduced_df\n",
        "# Save the reduced dataframe\n",
        "reduced_df.to_csv(\"reduced_dataset.csv\", index=False)\n",
        "'''"
      ]
    },
    {
      "cell_type": "markdown",
      "metadata": {
        "id": "W-f2ZI-FpB7q"
      },
      "source": [
        "Dataset Info/Statistcs"
      ]
    },
    {
      "cell_type": "code",
      "execution_count": null,
      "metadata": {
        "colab": {
          "base_uri": "https://localhost:8080/",
          "height": 206
        },
        "id": "WsCzB4VUche3",
        "outputId": "bda3199a-718a-4bbe-ac2b-9ef4aad10227"
      },
      "outputs": [
        {
          "output_type": "execute_result",
          "data": {
            "text/plain": [
              "         label                                               text\n",
              "4237     Mixed  كتاب جيد لكني أرى بأنه ليس عميق كفاية برأي هو ...\n",
              "4238  Negative  بلاش أحسن من يومين كده قررت اتفرج على سمير أبو...\n",
              "4239  Positive       لولا إنه طول شوية كنت اديته الخمسة كتاب فشيخ\n",
              "4240     Mixed  كتاب خفيف لطيف يتحدث فيه الكاتب عن الظواهر الا...\n",
              "4241  Positive  رواية يابانية رايقة، هادية وسلمية، تحسها تحكي ..."
            ],
            "text/html": [
              "\n",
              "  <div id=\"df-0bfde487-25b5-4e10-9076-6aac952c6212\">\n",
              "    <div class=\"colab-df-container\">\n",
              "      <div>\n",
              "<style scoped>\n",
              "    .dataframe tbody tr th:only-of-type {\n",
              "        vertical-align: middle;\n",
              "    }\n",
              "\n",
              "    .dataframe tbody tr th {\n",
              "        vertical-align: top;\n",
              "    }\n",
              "\n",
              "    .dataframe thead th {\n",
              "        text-align: right;\n",
              "    }\n",
              "</style>\n",
              "<table border=\"1\" class=\"dataframe\">\n",
              "  <thead>\n",
              "    <tr style=\"text-align: right;\">\n",
              "      <th></th>\n",
              "      <th>label</th>\n",
              "      <th>text</th>\n",
              "    </tr>\n",
              "  </thead>\n",
              "  <tbody>\n",
              "    <tr>\n",
              "      <th>4237</th>\n",
              "      <td>Mixed</td>\n",
              "      <td>كتاب جيد لكني أرى بأنه ليس عميق كفاية برأي هو ...</td>\n",
              "    </tr>\n",
              "    <tr>\n",
              "      <th>4238</th>\n",
              "      <td>Negative</td>\n",
              "      <td>بلاش أحسن من يومين كده قررت اتفرج على سمير أبو...</td>\n",
              "    </tr>\n",
              "    <tr>\n",
              "      <th>4239</th>\n",
              "      <td>Positive</td>\n",
              "      <td>لولا إنه طول شوية كنت اديته الخمسة كتاب فشيخ</td>\n",
              "    </tr>\n",
              "    <tr>\n",
              "      <th>4240</th>\n",
              "      <td>Mixed</td>\n",
              "      <td>كتاب خفيف لطيف يتحدث فيه الكاتب عن الظواهر الا...</td>\n",
              "    </tr>\n",
              "    <tr>\n",
              "      <th>4241</th>\n",
              "      <td>Positive</td>\n",
              "      <td>رواية يابانية رايقة، هادية وسلمية، تحسها تحكي ...</td>\n",
              "    </tr>\n",
              "  </tbody>\n",
              "</table>\n",
              "</div>\n",
              "      <button class=\"colab-df-convert\" onclick=\"convertToInteractive('df-0bfde487-25b5-4e10-9076-6aac952c6212')\"\n",
              "              title=\"Convert this dataframe to an interactive table.\"\n",
              "              style=\"display:none;\">\n",
              "        \n",
              "  <svg xmlns=\"http://www.w3.org/2000/svg\" height=\"24px\"viewBox=\"0 0 24 24\"\n",
              "       width=\"24px\">\n",
              "    <path d=\"M0 0h24v24H0V0z\" fill=\"none\"/>\n",
              "    <path d=\"M18.56 5.44l.94 2.06.94-2.06 2.06-.94-2.06-.94-.94-2.06-.94 2.06-2.06.94zm-11 1L8.5 8.5l.94-2.06 2.06-.94-2.06-.94L8.5 2.5l-.94 2.06-2.06.94zm10 10l.94 2.06.94-2.06 2.06-.94-2.06-.94-.94-2.06-.94 2.06-2.06.94z\"/><path d=\"M17.41 7.96l-1.37-1.37c-.4-.4-.92-.59-1.43-.59-.52 0-1.04.2-1.43.59L10.3 9.45l-7.72 7.72c-.78.78-.78 2.05 0 2.83L4 21.41c.39.39.9.59 1.41.59.51 0 1.02-.2 1.41-.59l7.78-7.78 2.81-2.81c.8-.78.8-2.07 0-2.86zM5.41 20L4 18.59l7.72-7.72 1.47 1.35L5.41 20z\"/>\n",
              "  </svg>\n",
              "      </button>\n",
              "      \n",
              "  <style>\n",
              "    .colab-df-container {\n",
              "      display:flex;\n",
              "      flex-wrap:wrap;\n",
              "      gap: 12px;\n",
              "    }\n",
              "\n",
              "    .colab-df-convert {\n",
              "      background-color: #E8F0FE;\n",
              "      border: none;\n",
              "      border-radius: 50%;\n",
              "      cursor: pointer;\n",
              "      display: none;\n",
              "      fill: #1967D2;\n",
              "      height: 32px;\n",
              "      padding: 0 0 0 0;\n",
              "      width: 32px;\n",
              "    }\n",
              "\n",
              "    .colab-df-convert:hover {\n",
              "      background-color: #E2EBFA;\n",
              "      box-shadow: 0px 1px 2px rgba(60, 64, 67, 0.3), 0px 1px 3px 1px rgba(60, 64, 67, 0.15);\n",
              "      fill: #174EA6;\n",
              "    }\n",
              "\n",
              "    [theme=dark] .colab-df-convert {\n",
              "      background-color: #3B4455;\n",
              "      fill: #D2E3FC;\n",
              "    }\n",
              "\n",
              "    [theme=dark] .colab-df-convert:hover {\n",
              "      background-color: #434B5C;\n",
              "      box-shadow: 0px 1px 3px 1px rgba(0, 0, 0, 0.15);\n",
              "      filter: drop-shadow(0px 1px 2px rgba(0, 0, 0, 0.3));\n",
              "      fill: #FFFFFF;\n",
              "    }\n",
              "  </style>\n",
              "\n",
              "      <script>\n",
              "        const buttonEl =\n",
              "          document.querySelector('#df-0bfde487-25b5-4e10-9076-6aac952c6212 button.colab-df-convert');\n",
              "        buttonEl.style.display =\n",
              "          google.colab.kernel.accessAllowed ? 'block' : 'none';\n",
              "\n",
              "        async function convertToInteractive(key) {\n",
              "          const element = document.querySelector('#df-0bfde487-25b5-4e10-9076-6aac952c6212');\n",
              "          const dataTable =\n",
              "            await google.colab.kernel.invokeFunction('convertToInteractive',\n",
              "                                                     [key], {});\n",
              "          if (!dataTable) return;\n",
              "\n",
              "          const docLinkHtml = 'Like what you see? Visit the ' +\n",
              "            '<a target=\"_blank\" href=https://colab.research.google.com/notebooks/data_table.ipynb>data table notebook</a>'\n",
              "            + ' to learn more about interactive tables.';\n",
              "          element.innerHTML = '';\n",
              "          dataTable['output_type'] = 'display_data';\n",
              "          await google.colab.output.renderOutput(dataTable, element);\n",
              "          const docLink = document.createElement('div');\n",
              "          docLink.innerHTML = docLinkHtml;\n",
              "          element.appendChild(docLink);\n",
              "        }\n",
              "      </script>\n",
              "    </div>\n",
              "  </div>\n",
              "  "
            ]
          },
          "metadata": {},
          "execution_count": 36
        }
      ],
      "source": [
        "reviews_df.tail()"
      ]
    },
    {
      "cell_type": "code",
      "execution_count": null,
      "metadata": {
        "colab": {
          "base_uri": "https://localhost:8080/"
        },
        "id": "xmwniULt3Sb4",
        "outputId": "42a0653b-70d7-4592-ccc5-45c91d6389ed"
      },
      "outputs": [
        {
          "output_type": "execute_result",
          "data": {
            "text/plain": [
              "(4242, 2)"
            ]
          },
          "metadata": {},
          "execution_count": 37
        }
      ],
      "source": [
        "reviews_df.shape"
      ]
    },
    {
      "cell_type": "code",
      "execution_count": null,
      "metadata": {
        "colab": {
          "base_uri": "https://localhost:8080/"
        },
        "id": "IVBguR-tcx1_",
        "outputId": "ccb50b9f-6ad8-4d76-c668-ca636bff78d0"
      },
      "outputs": [
        {
          "output_type": "stream",
          "name": "stdout",
          "text": [
            "<class 'pandas.core.frame.DataFrame'>\n",
            "RangeIndex: 4242 entries, 0 to 4241\n",
            "Data columns (total 2 columns):\n",
            " #   Column  Non-Null Count  Dtype \n",
            "---  ------  --------------  ----- \n",
            " 0   label   4242 non-null   object\n",
            " 1   text    4242 non-null   object\n",
            "dtypes: object(2)\n",
            "memory usage: 66.4+ KB\n"
          ]
        }
      ],
      "source": [
        "reviews_df.info()"
      ]
    },
    {
      "cell_type": "code",
      "execution_count": null,
      "metadata": {
        "colab": {
          "base_uri": "https://localhost:8080/",
          "height": 174
        },
        "id": "aU5ciO2cdGHQ",
        "outputId": "9fe83386-5e58-4809-83b4-f208e5941e38"
      },
      "outputs": [
        {
          "output_type": "execute_result",
          "data": {
            "text/plain": [
              "           label                                               text\n",
              "count       4242                                               4242\n",
              "unique         3                                               4242\n",
              "top     Negative  هو بلا شك جدل لا ينتهي إلا ليبدأ، جدل يتصارع د...\n",
              "freq        1465                                                  1"
            ],
            "text/html": [
              "\n",
              "  <div id=\"df-94c39713-2774-4031-92b1-4ff457425dde\">\n",
              "    <div class=\"colab-df-container\">\n",
              "      <div>\n",
              "<style scoped>\n",
              "    .dataframe tbody tr th:only-of-type {\n",
              "        vertical-align: middle;\n",
              "    }\n",
              "\n",
              "    .dataframe tbody tr th {\n",
              "        vertical-align: top;\n",
              "    }\n",
              "\n",
              "    .dataframe thead th {\n",
              "        text-align: right;\n",
              "    }\n",
              "</style>\n",
              "<table border=\"1\" class=\"dataframe\">\n",
              "  <thead>\n",
              "    <tr style=\"text-align: right;\">\n",
              "      <th></th>\n",
              "      <th>label</th>\n",
              "      <th>text</th>\n",
              "    </tr>\n",
              "  </thead>\n",
              "  <tbody>\n",
              "    <tr>\n",
              "      <th>count</th>\n",
              "      <td>4242</td>\n",
              "      <td>4242</td>\n",
              "    </tr>\n",
              "    <tr>\n",
              "      <th>unique</th>\n",
              "      <td>3</td>\n",
              "      <td>4242</td>\n",
              "    </tr>\n",
              "    <tr>\n",
              "      <th>top</th>\n",
              "      <td>Negative</td>\n",
              "      <td>هو بلا شك جدل لا ينتهي إلا ليبدأ، جدل يتصارع د...</td>\n",
              "    </tr>\n",
              "    <tr>\n",
              "      <th>freq</th>\n",
              "      <td>1465</td>\n",
              "      <td>1</td>\n",
              "    </tr>\n",
              "  </tbody>\n",
              "</table>\n",
              "</div>\n",
              "      <button class=\"colab-df-convert\" onclick=\"convertToInteractive('df-94c39713-2774-4031-92b1-4ff457425dde')\"\n",
              "              title=\"Convert this dataframe to an interactive table.\"\n",
              "              style=\"display:none;\">\n",
              "        \n",
              "  <svg xmlns=\"http://www.w3.org/2000/svg\" height=\"24px\"viewBox=\"0 0 24 24\"\n",
              "       width=\"24px\">\n",
              "    <path d=\"M0 0h24v24H0V0z\" fill=\"none\"/>\n",
              "    <path d=\"M18.56 5.44l.94 2.06.94-2.06 2.06-.94-2.06-.94-.94-2.06-.94 2.06-2.06.94zm-11 1L8.5 8.5l.94-2.06 2.06-.94-2.06-.94L8.5 2.5l-.94 2.06-2.06.94zm10 10l.94 2.06.94-2.06 2.06-.94-2.06-.94-.94-2.06-.94 2.06-2.06.94z\"/><path d=\"M17.41 7.96l-1.37-1.37c-.4-.4-.92-.59-1.43-.59-.52 0-1.04.2-1.43.59L10.3 9.45l-7.72 7.72c-.78.78-.78 2.05 0 2.83L4 21.41c.39.39.9.59 1.41.59.51 0 1.02-.2 1.41-.59l7.78-7.78 2.81-2.81c.8-.78.8-2.07 0-2.86zM5.41 20L4 18.59l7.72-7.72 1.47 1.35L5.41 20z\"/>\n",
              "  </svg>\n",
              "      </button>\n",
              "      \n",
              "  <style>\n",
              "    .colab-df-container {\n",
              "      display:flex;\n",
              "      flex-wrap:wrap;\n",
              "      gap: 12px;\n",
              "    }\n",
              "\n",
              "    .colab-df-convert {\n",
              "      background-color: #E8F0FE;\n",
              "      border: none;\n",
              "      border-radius: 50%;\n",
              "      cursor: pointer;\n",
              "      display: none;\n",
              "      fill: #1967D2;\n",
              "      height: 32px;\n",
              "      padding: 0 0 0 0;\n",
              "      width: 32px;\n",
              "    }\n",
              "\n",
              "    .colab-df-convert:hover {\n",
              "      background-color: #E2EBFA;\n",
              "      box-shadow: 0px 1px 2px rgba(60, 64, 67, 0.3), 0px 1px 3px 1px rgba(60, 64, 67, 0.15);\n",
              "      fill: #174EA6;\n",
              "    }\n",
              "\n",
              "    [theme=dark] .colab-df-convert {\n",
              "      background-color: #3B4455;\n",
              "      fill: #D2E3FC;\n",
              "    }\n",
              "\n",
              "    [theme=dark] .colab-df-convert:hover {\n",
              "      background-color: #434B5C;\n",
              "      box-shadow: 0px 1px 3px 1px rgba(0, 0, 0, 0.15);\n",
              "      filter: drop-shadow(0px 1px 2px rgba(0, 0, 0, 0.3));\n",
              "      fill: #FFFFFF;\n",
              "    }\n",
              "  </style>\n",
              "\n",
              "      <script>\n",
              "        const buttonEl =\n",
              "          document.querySelector('#df-94c39713-2774-4031-92b1-4ff457425dde button.colab-df-convert');\n",
              "        buttonEl.style.display =\n",
              "          google.colab.kernel.accessAllowed ? 'block' : 'none';\n",
              "\n",
              "        async function convertToInteractive(key) {\n",
              "          const element = document.querySelector('#df-94c39713-2774-4031-92b1-4ff457425dde');\n",
              "          const dataTable =\n",
              "            await google.colab.kernel.invokeFunction('convertToInteractive',\n",
              "                                                     [key], {});\n",
              "          if (!dataTable) return;\n",
              "\n",
              "          const docLinkHtml = 'Like what you see? Visit the ' +\n",
              "            '<a target=\"_blank\" href=https://colab.research.google.com/notebooks/data_table.ipynb>data table notebook</a>'\n",
              "            + ' to learn more about interactive tables.';\n",
              "          element.innerHTML = '';\n",
              "          dataTable['output_type'] = 'display_data';\n",
              "          await google.colab.output.renderOutput(dataTable, element);\n",
              "          const docLink = document.createElement('div');\n",
              "          docLink.innerHTML = docLinkHtml;\n",
              "          element.appendChild(docLink);\n",
              "        }\n",
              "      </script>\n",
              "    </div>\n",
              "  </div>\n",
              "  "
            ]
          },
          "metadata": {},
          "execution_count": 39
        }
      ],
      "source": [
        "reviews_df.describe()"
      ]
    },
    {
      "cell_type": "code",
      "execution_count": null,
      "metadata": {
        "colab": {
          "base_uri": "https://localhost:8080/"
        },
        "id": "RU4aBoLbdLge",
        "outputId": "1b724411-10dc-4336-b43f-c75ba94332a8"
      },
      "outputs": [
        {
          "output_type": "execute_result",
          "data": {
            "text/plain": [
              "Negative    1465\n",
              "Mixed       1401\n",
              "Positive    1376\n",
              "Name: label, dtype: int64"
            ]
          },
          "metadata": {},
          "execution_count": 40
        }
      ],
      "source": [
        "reviews_df.label.value_counts()"
      ]
    },
    {
      "cell_type": "code",
      "execution_count": null,
      "metadata": {
        "colab": {
          "base_uri": "https://localhost:8080/"
        },
        "id": "ZjOqvgsodW4F",
        "outputId": "aed139a7-dd41-403f-d7e2-f1c2a6f35284"
      },
      "outputs": [
        {
          "output_type": "execute_result",
          "data": {
            "text/plain": [
              "Negative    0.345356\n",
              "Mixed       0.330269\n",
              "Positive    0.324375\n",
              "Name: label, dtype: float64"
            ]
          },
          "metadata": {},
          "execution_count": 41
        }
      ],
      "source": [
        "reviews_df.label.value_counts(normalize=True)"
      ]
    },
    {
      "cell_type": "code",
      "execution_count": null,
      "metadata": {
        "colab": {
          "base_uri": "https://localhost:8080/",
          "height": 423
        },
        "id": "kRdnbGqldfgq",
        "outputId": "39881ef7-90c6-4101-f383-e327612bfb70"
      },
      "outputs": [
        {
          "output_type": "execute_result",
          "data": {
            "text/plain": [
              "<Axes: ylabel='label'>"
            ]
          },
          "metadata": {},
          "execution_count": 42
        },
        {
          "output_type": "display_data",
          "data": {
            "text/plain": [
              "<Figure size 640x480 with 1 Axes>"
            ],
            "image/png": "[encoded data removed]"
          },
          "metadata": {}
        }
      ],
      "source": [
        "reviews_df.label.value_counts(normalize=True).plot.pie()"
      ]
    },
    {
      "cell_type": "code",
      "execution_count": null,
      "metadata": {
        "colab": {
          "base_uri": "https://localhost:8080/"
        },
        "id": "vhRKBtAkdzYv",
        "outputId": "547f5334-192a-4978-bb0a-37fc86b981c1"
      },
      "outputs": [
        {
          "output_type": "execute_result",
          "data": {
            "text/plain": [
              "label  text \n",
              "False  False    4242\n",
              "dtype: int64"
            ]
          },
          "metadata": {},
          "execution_count": 43
        }
      ],
      "source": [
        "reviews_df.isnull().value_counts()"
      ]
    },
    {
      "cell_type": "code",
      "execution_count": null,
      "metadata": {
        "id": "Xv46IGS7d9W6"
      },
      "outputs": [],
      "source": [
        "df=reviews_df.copy()"
      ]
    },
    {
      "cell_type": "markdown",
      "metadata": {
        "id": "igkSUvrK8bCi"
      },
      "source": [
        "Second Phase"
      ]
    },
    {
      "cell_type": "markdown",
      "metadata": {
        "id": "U1PD2hVj9MIq"
      },
      "source": [
        "1.Removing punctuation,Standardisation"
      ]
    },
    {
      "cell_type": "code",
      "execution_count": null,
      "metadata": {
        "colab": {
          "base_uri": "https://localhost:8080/",
          "height": 35
        },
        "id": "J4MTyf71Lzn2",
        "outputId": "e57963dd-a4b8-4acf-d752-64dd4a8a708d"
      },
      "outputs": [
        {
          "output_type": "execute_result",
          "data": {
            "text/plain": [
              "'!\"#$%&\\'()*+,-./:;<=>?@[\\\\]^_`{|}~'"
            ],
            "application/vnd.google.colaboratory.intrinsic+json": {
              "type": "string"
            }
          },
          "metadata": {},
          "execution_count": 45
        }
      ],
      "source": [
        "import string\n",
        "string.punctuation"
      ]
    },
    {
      "cell_type": "code",
      "execution_count": null,
      "metadata": {
        "id": "68KBjk3ALz_c"
      },
      "outputs": [],
      "source": [
        "def remove_punct(text):\n",
        "    punc= string.punctuation+\"؟،“”؛\"\n",
        "    text_no_punct=\"\".join([char for char in text if char not in punc])\n",
        "    return text_no_punct"
      ]
    },
    {
      "cell_type": "code",
      "execution_count": null,
      "metadata": {
        "id": "4eKaoIfZL0N0"
      },
      "outputs": [],
      "source": [
        "reviews_df['text_no_punct']=reviews_df['text'].apply(lambda x: remove_punct(x))"
      ]
    },
    {
      "cell_type": "markdown",
      "metadata": {
        "id": "mK7qIYVPiqHt"
      },
      "source": [
        "2.Tokenization using: 1- regex and split   2- NLTK"
      ]
    },
    {
      "cell_type": "code",
      "execution_count": null,
      "metadata": {
        "colab": {
          "base_uri": "https://localhost:8080/"
        },
        "id": "qy-9uJ0DQ6L5",
        "outputId": "39a7cf6b-f7ea-43eb-9c6b-3425372745ed"
      },
      "outputs": [
        {
          "output_type": "stream",
          "name": "stderr",
          "text": [
            "[nltk_data] Downloading package punkt to /root/nltk_data...\n",
            "[nltk_data]   Package punkt is already up-to-date!\n"
          ]
        }
      ],
      "source": [
        "#Tokeniziation (White-Spaceing)\n",
        "nltk.download('punkt')\n",
        "from nltk.tokenize import word_tokenize"
      ]
    },
    {
      "cell_type": "code",
      "execution_count": null,
      "metadata": {
        "id": "Zi2E5pKA_497"
      },
      "outputs": [],
      "source": [
        "reviews_df['text_tokenize']=reviews_df['text'].apply(lambda x: word_tokenize(x))"
      ]
    },
    {
      "cell_type": "code",
      "execution_count": null,
      "metadata": {
        "id": "_-qPv9EkzyLQ"
      },
      "outputs": [],
      "source": [
        "import re"
      ]
    },
    {
      "cell_type": "code",
      "execution_count": null,
      "metadata": {
        "id": "3oJGlxmpRRgO"
      },
      "outputs": [],
      "source": [
        "reviews_df['text_token_re']=reviews_df['text_no_punct'].apply(lambda x:re.split('\\W+', x))"
      ]
    },
    {
      "cell_type": "markdown",
      "metadata": {
        "id": "dekvTBZ1i_uh"
      },
      "source": [
        "3.Removing Stop- words using NLTK"
      ]
    },
    {
      "cell_type": "code",
      "execution_count": null,
      "metadata": {
        "colab": {
          "base_uri": "https://localhost:8080/"
        },
        "id": "-artCoYmR8Oj",
        "outputId": "0c3f45ed-6420-4dd8-b498-374fc428e4ab"
      },
      "outputs": [
        {
          "output_type": "stream",
          "name": "stderr",
          "text": [
            "[nltk_data] Downloading package stopwords to /root/nltk_data...\n",
            "[nltk_data]   Package stopwords is already up-to-date!\n"
          ]
        },
        {
          "output_type": "execute_result",
          "data": {
            "text/plain": [
              "True"
            ]
          },
          "metadata": {},
          "execution_count": 52
        }
      ],
      "source": [
        "import nltk\n",
        "from nltk.corpus import stopwords\n",
        "nltk.download('stopwords')"
      ]
    },
    {
      "cell_type": "code",
      "execution_count": null,
      "metadata": {
        "id": "7LvHHK0GSMKN"
      },
      "outputs": [],
      "source": [
        "stopwords_Ar=nltk.corpus.stopwords.words('arabic')"
      ]
    },
    {
      "cell_type": "code",
      "execution_count": null,
      "metadata": {
        "id": "zefu90N7sGHZ"
      },
      "outputs": [],
      "source": [
        "stopwords_Ar"
      ]
    },
    {
      "cell_type": "code",
      "execution_count": null,
      "metadata": {
        "id": "8cmPn6wfSRLW"
      },
      "outputs": [],
      "source": [
        "def remove_stopwords(s):\n",
        "    return [x for x in s if x not in stopwords_Ar]"
      ]
    },
    {
      "cell_type": "code",
      "execution_count": null,
      "metadata": {
        "id": "dySr2HIRSUc8"
      },
      "outputs": [],
      "source": [
        "reviews_df['text_stopword']=reviews_df['text_token_re'].apply(lambda x:remove_stopwords(x))"
      ]
    },
    {
      "cell_type": "markdown",
      "metadata": {
        "id": "ZYDFJHDZjNH_"
      },
      "source": [
        "4.Stemming"
      ]
    },
    {
      "cell_type": "code",
      "execution_count": null,
      "metadata": {
        "id": "oYsz4B-1Cto1"
      },
      "outputs": [],
      "source": [
        "import nltk\n",
        "from nltk.stem.isri import ISRIStemmer\n",
        "p_stemmer = ISRIStemmer()"
      ]
    },
    {
      "cell_type": "code",
      "execution_count": null,
      "metadata": {
        "id": "tREtF51cNHnH"
      },
      "outputs": [],
      "source": [
        "def stem(s):\n",
        "  return [p_stemmer.stem(token) for token in s]"
      ]
    },
    {
      "cell_type": "code",
      "execution_count": null,
      "metadata": {
        "id": "DfBkpt4w0c8B"
      },
      "outputs": [],
      "source": [
        "reviews_df['text_stems'] = reviews_df['text_stopword'].apply(lambda x: stem(x))"
      ]
    },
    {
      "cell_type": "markdown",
      "metadata": {
        "id": "lG_mhK2tjSN2"
      },
      "source": [
        "5.Lemmatization"
      ]
    },
    {
      "cell_type": "code",
      "execution_count": null,
      "metadata": {
        "id": "FSFULbZsQdxG"
      },
      "outputs": [],
      "source": [
        "!pip install qalsadi"
      ]
    },
    {
      "cell_type": "code",
      "execution_count": null,
      "metadata": {
        "id": "1JTJKfUwbCLE"
      },
      "outputs": [],
      "source": [
        "import qalsadi.lemmatizer"
      ]
    },
    {
      "cell_type": "code",
      "execution_count": null,
      "metadata": {
        "colab": {
          "base_uri": "https://localhost:8080/",
          "height": 35
        },
        "id": "QqeLTb39bCe1",
        "outputId": "6d11ffcc-4de0-4379-8f44-ae01c220db32"
      },
      "outputs": [
        {
          "output_type": "execute_result",
          "data": {
            "text/plain": [
              "''"
            ],
            "application/vnd.google.colaboratory.intrinsic+json": {
              "type": "string"
            }
          },
          "metadata": {},
          "execution_count": 62
        }
      ],
      "source": [
        "lemmer = qalsadi.lemmatizer.Lemmatizer()\n",
        "lemmer.lemmatize(\"\")"
      ]
    },
    {
      "cell_type": "code",
      "execution_count": null,
      "metadata": {
        "id": "ROGAE1yxbb0n"
      },
      "outputs": [],
      "source": [
        "def lemtaization(s):\n",
        "  return [lemmer.lemmatize(token) for token in s]"
      ]
    },
    {
      "cell_type": "code",
      "execution_count": null,
      "metadata": {
        "id": "pevvZNeff0VV"
      },
      "outputs": [],
      "source": [
        "reviews_df['text_lemmatize'] = reviews_df['text_stopword'].apply(lambda x: lemtaization(x))"
      ]
    },
    {
      "cell_type": "code",
      "execution_count": null,
      "metadata": {
        "id": "SSLai_BW2lJ6"
      },
      "outputs": [],
      "source": [
        "def join_text(set):\n",
        "    text = \"\"\n",
        "    for word in set:\n",
        "        text += word + \" \"\n",
        "    return text"
      ]
    },
    {
      "cell_type": "code",
      "execution_count": null,
      "metadata": {
        "id": "EqzghIAr2YhP"
      },
      "outputs": [],
      "source": [
        "reviews_df['text_cleaned'] = reviews_df['text_lemmatize'].apply(lambda x: join_text(x))"
      ]
    },
    {
      "cell_type": "markdown",
      "metadata": {
        "id": "0m2z2PIk54PZ"
      },
      "source": [
        "Word Embeddings model\n",
        "\n",
        "This code was taken from: https://www.kaggle.com/code/bertcarremans/using-word-embeddings-for-sentiment-analysis\n",
        "\n",
        "and was adjusted to fit our data."
      ]
    },
    {
      "cell_type": "code",
      "execution_count": null,
      "metadata": {
        "id": "SnO88_2KJt5x",
        "colab": {
          "base_uri": "https://localhost:8080/"
        },
        "outputId": "4030bce1-b90a-4ede-e832-5d8638f860cd"
      },
      "outputs": [
        {
          "output_type": "stream",
          "name": "stdout",
          "text": [
            "Looking in indexes: https://pypi.org/simple, https://us-python.pkg.dev/colab-wheels/public/simple/\n",
            "Collecting keras_preprocessing\n",
            "  Downloading Keras_Preprocessing-1.1.2-py2.py3-none-any.whl (42 kB)\n",
            "\u001b[2K     \u001b[90m━━━━━━━━━━━━━━━━━━━━━━━━━━━━━━━━━━━━━━━━\u001b[0m \u001b[32m42.6/42.6 kB\u001b[0m \u001b[31m1.5 MB/s\u001b[0m eta \u001b[36m0:00:00\u001b[0m\n",
            "\u001b[?25hRequirement already satisfied: numpy>=1.9.1 in /usr/local/lib/python3.10/dist-packages (from keras_preprocessing) (1.22.4)\n",
            "Requirement already satisfied: six>=1.9.0 in /usr/local/lib/python3.10/dist-packages (from keras_preprocessing) (1.16.0)\n",
            "Installing collected packages: keras_preprocessing\n",
            "Successfully installed keras_preprocessing-1.1.2\n"
          ]
        }
      ],
      "source": [
        "pip install keras_preprocessing"
      ]
    },
    {
      "cell_type": "code",
      "execution_count": null,
      "metadata": {
        "id": "zN8TP1qiH7pz"
      },
      "outputs": [],
      "source": [
        "import keras_preprocessing\n",
        "from keras.preprocessing.text import Tokenizer\n",
        "from keras_preprocessing.sequence import pad_sequences\n",
        "from keras.models import Sequential\n",
        "from keras.layers import Embedding, Dense, Flatten, Input\n",
        "\n",
        "import re\n",
        "import collections\n",
        "import matplotlib.pyplot as plt\n",
        "from pathlib import Path\n",
        "\n",
        "# Packages for data preparation\n",
        "from sklearn.model_selection import train_test_split\n",
        "from keras.utils.np_utils import to_categorical\n",
        "from sklearn.preprocessing import LabelEncoder\n",
        "\n",
        "# Packages for modeling\n",
        "from keras import models\n",
        "from keras import layers\n",
        "from keras import regularizers"
      ]
    },
    {
      "cell_type": "code",
      "execution_count": null,
      "metadata": {
        "id": "7TSQhQGSfFvN"
      },
      "outputs": [],
      "source": [
        "NB_WORDS = 14000  # Parameter indicating the number of words we'll put in the dictionary\n",
        "VAL_SIZE = 1000  # Size of the validation set\n",
        "NB_START_EPOCHS = 20  # Number of epochs we usually start to train with\n",
        "MAX_LEN = 24\n",
        "BATCH_SIZE = 512  # Size of the batches used in the mini-batch gradient descent\n",
        "GLOVE_DIM = 50  # Number of dimensions of the GloVe word embeddings"
      ]
    },
    {
      "cell_type": "code",
      "execution_count": null,
      "metadata": {
        "id": "WNyu5EqIff_Z"
      },
      "outputs": [],
      "source": [
        "def deep_model(model, X_train, y_train, X_valid, y_valid):\n",
        "    '''\n",
        "    Function to train a multi-class model. The number of epochs and\n",
        "    batch_size are set by the constants at the top of the\n",
        "    notebook.\n",
        "\n",
        "    Parameters:\n",
        "        model : model with the chosen architecture\n",
        "        X_train : training features\n",
        "        y_train : training target\n",
        "        X_valid : validation features\n",
        "        Y_valid : validation target\n",
        "    Output:\n",
        "        model training history\n",
        "    '''\n",
        "    model.compile(optimizer='rmsprop'\n",
        "                  , loss='categorical_crossentropy'\n",
        "                  , metrics=['accuracy'])\n",
        "\n",
        "    history = model.fit(X_train\n",
        "                       , y_train\n",
        "                       , epochs=NB_START_EPOCHS\n",
        "                       , batch_size=BATCH_SIZE\n",
        "                       , validation_data=(X_valid, y_valid)\n",
        "                       , verbose=1)\n",
        "    return history\n",
        "\n",
        "\n",
        "def test_model(model, X_train, y_train, X_test, y_test, epoch_stop):\n",
        "    '''\n",
        "    Function to test the model on new data after training it\n",
        "    on the full training data with the optimal number of epochs.\n",
        "\n",
        "    Parameters:\n",
        "        model : trained model\n",
        "        X_train : training features\n",
        "        y_train : training target\n",
        "        X_test : test features\n",
        "        y_test : test target\n",
        "        epochs : optimal number of epochs\n",
        "    Output:\n",
        "        test accuracy and test loss\n",
        "    '''\n",
        "    model.fit(X_train\n",
        "              , y_train\n",
        "              , epochs=epoch_stop\n",
        "              , batch_size=BATCH_SIZE\n",
        "              , verbose=0)\n",
        "    results = model.evaluate(X_test, y_test)\n",
        "\n",
        "    return results\n",
        ""
      ]
    },
    {
      "cell_type": "code",
      "execution_count": null,
      "metadata": {
        "id": "Hk6SWw4Ef9BH"
      },
      "outputs": [],
      "source": [
        "X_train, X_test, y_train, y_test = train_test_split(reviews_df.text_cleaned, reviews_df.label, test_size=0.25, random_state=37)\n",
        "assert X_train.shape[0] == y_train.shape[0]\n",
        "assert X_test.shape[0] == y_test.shape[0]"
      ]
    },
    {
      "cell_type": "code",
      "execution_count": null,
      "metadata": {
        "id": "AU7yDVjPggWb"
      },
      "outputs": [],
      "source": [
        "from sklearn.feature_extraction.text import TfidfVectorizer\n",
        "tk = Tokenizer(num_words=NB_WORDS,\n",
        "               filters='!\"#$%&()*+,-./:;<=>?@[\\\\]^_`{|}~\\t\\n',\n",
        "               lower=True,\n",
        "               split=\" \")\n",
        "tk.fit_on_texts(X_train)\n",
        "\n",
        "X_train_seq = tk.texts_to_sequences(X_train)\n",
        "X_test_seq = tk.texts_to_sequences(X_test)"
      ]
    },
    {
      "cell_type": "code",
      "execution_count": null,
      "metadata": {
        "id": "ADl4w_FHL19Q"
      },
      "outputs": [],
      "source": [
        "# Create the TF-IDF features\n",
        "tfidf = TfidfVectorizer()\n",
        "tfidf_features = tfidf.fit_transform(X_train)\n",
        "tfidf_features_test = tfidf.transform(X_test)\n"
      ]
    },
    {
      "cell_type": "code",
      "execution_count": null,
      "metadata": {
        "id": "rnGIKfbvgkRM"
      },
      "outputs": [],
      "source": [
        "seq_lengths = X_train.apply(lambda x: len(x.split(' ')))"
      ]
    },
    {
      "cell_type": "code",
      "execution_count": null,
      "metadata": {
        "id": "QmruY_SVgoux"
      },
      "outputs": [],
      "source": [
        "'''\n",
        "pad the sequences in X_train_seq with zeros (0) or truncates them\n",
        "  to ensure that all sequences have the same length\n",
        "'''\n",
        "\n",
        "X_train_seq_trunc = pad_sequences(X_train_seq, maxlen=MAX_LEN)\n",
        "X_test_seq_trunc = pad_sequences(X_test_seq, maxlen=MAX_LEN)"
      ]
    },
    {
      "cell_type": "code",
      "execution_count": null,
      "metadata": {
        "id": "ufDH3fjlzx0J"
      },
      "outputs": [],
      "source": [
        "# Concatenate the TF-IDF features with the sequences of integers horizontally\n",
        "X_train_seq_trunc = np.hstack([tfidf_features.toarray(), X_train_seq_trunc])\n",
        "X_test_seq_trunc = np.hstack([tfidf_features_test.toarray(), X_test_seq_trunc])"
      ]
    },
    {
      "cell_type": "code",
      "execution_count": null,
      "metadata": {
        "id": "NvB5Acyagt_h"
      },
      "outputs": [],
      "source": [
        "le = LabelEncoder()\n",
        "y_train_le = le.fit_transform(y_train)\n",
        "y_test_le = le.transform(y_test)\n",
        "y_train_oh = to_categorical(y_train_le)\n",
        "y_test_oh = to_categorical(y_test_le)"
      ]
    },
    {
      "cell_type": "code",
      "execution_count": null,
      "metadata": {
        "id": "539qe48ogyYj"
      },
      "outputs": [],
      "source": [
        "X_train_emb, X_valid_emb, y_train_emb, y_valid_emb = train_test_split(X_train_seq_trunc, y_train_oh, test_size=0.25, random_state=37)\n",
        "\n",
        "assert X_valid_emb.shape[0] == y_valid_emb.shape[0]\n",
        "assert X_train_emb.shape[0] == y_train_emb.shape[0]\n"
      ]
    },
    {
      "cell_type": "code",
      "execution_count": null,
      "metadata": {
        "id": "WzL2AvGgg3K7"
      },
      "outputs": [],
      "source": [
        "input_shape = X_train_seq_trunc.shape[1]\n",
        "emb_model = models.Sequential()\n",
        "emb_model.add(layers.Embedding(NB_WORDS, 8, input_length=input_shape))\n",
        "emb_model.add(layers.Flatten())\n",
        "emb_model.add(layers.Dense(3, activation='softmax'))"
      ]
    },
    {
      "cell_type": "code",
      "execution_count": null,
      "metadata": {
        "colab": {
          "base_uri": "https://localhost:8080/"
        },
        "id": "q5ghvFO1g-3y",
        "outputId": "5321f603-870f-4de8-9130-8e93103cb048"
      },
      "outputs": [
        {
          "output_type": "stream",
          "name": "stdout",
          "text": [
            "Epoch 1/20\n",
            "5/5 [==============================] - 11s 2s/step - loss: 5.7299 - accuracy: 0.3493 - val_loss: 2.4758 - val_accuracy: 0.3040\n",
            "Epoch 2/20\n",
            "5/5 [==============================] - 11s 2s/step - loss: 2.1434 - accuracy: 0.3229 - val_loss: 1.2011 - val_accuracy: 0.3480\n",
            "Epoch 3/20\n",
            "5/5 [==============================] - 13s 3s/step - loss: 1.3624 - accuracy: 0.3195 - val_loss: 1.3036 - val_accuracy: 0.3480\n",
            "Epoch 4/20\n",
            "5/5 [==============================] - 11s 2s/step - loss: 1.3280 - accuracy: 0.3279 - val_loss: 1.1677 - val_accuracy: 0.3480\n",
            "Epoch 5/20\n",
            "5/5 [==============================] - 6s 1s/step - loss: 1.2190 - accuracy: 0.3413 - val_loss: 1.3586 - val_accuracy: 0.3040\n",
            "Epoch 6/20\n",
            "5/5 [==============================] - 7s 1s/step - loss: 1.2689 - accuracy: 0.3426 - val_loss: 1.1007 - val_accuracy: 0.3480\n",
            "Epoch 7/20\n",
            "5/5 [==============================] - 5s 1s/step - loss: 1.1323 - accuracy: 0.3350 - val_loss: 1.2885 - val_accuracy: 0.3040\n",
            "Epoch 8/20\n",
            "5/5 [==============================] - 7s 1s/step - loss: 1.2071 - accuracy: 0.3384 - val_loss: 1.0978 - val_accuracy: 0.3480\n",
            "Epoch 9/20\n",
            "5/5 [==============================] - 6s 1s/step - loss: 1.1124 - accuracy: 0.3233 - val_loss: 1.1298 - val_accuracy: 0.3480\n",
            "Epoch 10/20\n",
            "5/5 [==============================] - 7s 1s/step - loss: 1.1430 - accuracy: 0.3199 - val_loss: 1.1054 - val_accuracy: 0.3480\n",
            "Epoch 11/20\n",
            "5/5 [==============================] - 5s 1s/step - loss: 1.1050 - accuracy: 0.3371 - val_loss: 1.1015 - val_accuracy: 0.3480\n",
            "Epoch 12/20\n",
            "5/5 [==============================] - 7s 1s/step - loss: 1.1012 - accuracy: 0.3308 - val_loss: 1.1089 - val_accuracy: 0.3040\n",
            "Epoch 13/20\n",
            "5/5 [==============================] - 6s 1s/step - loss: 1.0939 - accuracy: 0.3937 - val_loss: 1.1217 - val_accuracy: 0.3053\n",
            "Epoch 14/20\n",
            "5/5 [==============================] - 6s 1s/step - loss: 1.0953 - accuracy: 0.3635 - val_loss: 1.1099 - val_accuracy: 0.3480\n",
            "Epoch 15/20\n",
            "5/5 [==============================] - 6s 1s/step - loss: 1.0892 - accuracy: 0.4004 - val_loss: 1.1003 - val_accuracy: 0.3455\n",
            "Epoch 16/20\n",
            "5/5 [==============================] - 5s 1s/step - loss: 1.0853 - accuracy: 0.4730 - val_loss: 1.0949 - val_accuracy: 0.3492\n",
            "Epoch 17/20\n",
            "5/5 [==============================] - 6s 1s/step - loss: 1.0800 - accuracy: 0.3870 - val_loss: 1.0970 - val_accuracy: 0.3480\n",
            "Epoch 18/20\n",
            "5/5 [==============================] - 5s 1s/step - loss: 1.0761 - accuracy: 0.4990 - val_loss: 1.0946 - val_accuracy: 0.3744\n",
            "Epoch 19/20\n",
            "5/5 [==============================] - 7s 2s/step - loss: 1.0716 - accuracy: 0.6373 - val_loss: 1.0924 - val_accuracy: 0.3819\n",
            "Epoch 20/20\n",
            "5/5 [==============================] - 5s 1s/step - loss: 1.0671 - accuracy: 0.5543 - val_loss: 1.0921 - val_accuracy: 0.4058\n"
          ]
        }
      ],
      "source": [
        "emb_history = deep_model(emb_model, X_train_emb, y_train_emb, X_valid_emb, y_valid_emb)"
      ]
    },
    {
      "cell_type": "code",
      "execution_count": null,
      "metadata": {
        "colab": {
          "base_uri": "https://localhost:8080/"
        },
        "id": "VI4L5pz0hEtn",
        "outputId": "e7cb4f44-e9cc-4117-b5ce-aef9170b4942"
      },
      "outputs": [
        {
          "output_type": "stream",
          "name": "stdout",
          "text": [
            "34/34 [==============================] - 1s 14ms/step - loss: 1.0775 - accuracy: 0.4383\n",
            "/n\n",
            "Test accuracy of word embeddings model: 43.83%\n"
          ]
        }
      ],
      "source": [
        "emb_results = test_model(emb_model, X_train_seq_trunc, y_train_oh, X_test_seq_trunc, y_test_oh, 6)\n",
        "print('/n')\n",
        "print('Test accuracy of word embeddings model: {0:.2f}%'.format(emb_results[1]*100))"
      ]
    },
    {
      "cell_type": "markdown",
      "metadata": {
        "id": "E6Hid9k8Xb0-"
      },
      "source": [
        "3.Vectorizing by using Count Vectorization"
      ]
    },
    {
      "cell_type": "code",
      "execution_count": null,
      "metadata": {
        "id": "qORuA8j6XdQO"
      },
      "outputs": [],
      "source": [
        "from sklearn .feature_extraction.text import  CountVectorizer\n",
        "\n",
        "count_vector = CountVectorizer()\n",
        "features_cv = count_vector.fit_transform(reviews_df['text_cleaned'])\n",
        "features_cv = pd.DataFrame(features_cv.toarray())\n"
      ]
    },
    {
      "cell_type": "markdown",
      "metadata": {
        "id": "ubvoN2ojQZRm"
      },
      "source": [
        "TF-IDF"
      ]
    },
    {
      "cell_type": "code",
      "execution_count": null,
      "metadata": {
        "id": "Kxb2Drq5znYa"
      },
      "outputs": [],
      "source": [
        "## tf/idf vector\n",
        "from sklearn.feature_extraction.text import TfidfVectorizer\n",
        "tfidf = TfidfVectorizer()\n",
        "features_tfidf = tfidf.fit_transform(reviews_df['text_cleaned'])\n",
        "features_tfidf = pd.DataFrame(features_tfidf.toarray())"
      ]
    },
    {
      "cell_type": "markdown",
      "metadata": {
        "id": "miVaqFIBpUzW"
      },
      "source": [
        "Splitting data for training"
      ]
    },
    {
      "cell_type": "code",
      "execution_count": null,
      "metadata": {
        "id": "Ihm9cB2i8vu2"
      },
      "outputs": [],
      "source": [
        "from sklearn.model_selection import train_test_split\n",
        "from sklearn.ensemble import RandomForestClassifier\n",
        "from sklearn.naive_bayes import MultinomialNB\n",
        "from sklearn.svm import SVC"
      ]
    },
    {
      "cell_type": "code",
      "execution_count": null,
      "metadata": {
        "id": "1BJ_jda5FXty"
      },
      "outputs": [],
      "source": [
        "# remove all unnecessery columns\n",
        "target = reviews_df['label']\n",
        "reviews_df = df.drop(['label','text'], inplace=True, axis=1)"
      ]
    },
    {
      "cell_type": "code",
      "source": [
        "reviews_df = None"
      ],
      "metadata": {
        "id": "jWTgU2F37WIA"
      },
      "execution_count": null,
      "outputs": []
    },
    {
      "cell_type": "code",
      "execution_count": null,
      "metadata": {
        "id": "PbvJlaOd3ccy"
      },
      "outputs": [],
      "source": [
        "## concatenate the two vectors\n",
        "reviews_df = pd.concat([reviews_df,pd.DataFrame(features_cv)], axis = 1)\n",
        "#reviews_df = pd.concat([reviews_df,pd.DataFrame(features_tfidf)], axis = 1)"
      ]
    },
    {
      "cell_type": "code",
      "execution_count": null,
      "metadata": {
        "id": "6a3wDg0GOG8f"
      },
      "outputs": [],
      "source": [
        "##split data for training test size 25%\n",
        "X_train, X_test, y_train, y_test = train_test_split(reviews_df, target, test_size=0.25)"
      ]
    },
    {
      "cell_type": "markdown",
      "metadata": {
        "id": "cd5SIU9Mpa-8"
      },
      "source": [
        "Machine learning using random forest, naieve bays, and support vector machine."
      ]
    },
    {
      "cell_type": "code",
      "execution_count": null,
      "metadata": {
        "colab": {
          "base_uri": "https://localhost:8080/"
        },
        "id": "Jb04HhhNFnme",
        "outputId": "957bb87c-9c18-469d-fe53-077763c7dd25"
      },
      "outputs": [
        {
          "output_type": "stream",
          "name": "stdout",
          "text": [
            "Accuracy: 51.46%\n"
          ]
        }
      ],
      "source": [
        "# Train the model\n",
        "model = MultinomialNB()\n",
        "model.fit(X_train, y_train)\n",
        "\n",
        "# Evaluate the model on the test set\n",
        "accuracy = model.score(X_test, y_test)\n",
        "print('Accuracy: {0:.2f}%'.format(accuracy*100))"
      ]
    },
    {
      "cell_type": "code",
      "execution_count": null,
      "metadata": {
        "colab": {
          "base_uri": "https://localhost:8080/"
        },
        "id": "w2zGzVpjSUW0",
        "outputId": "51b30607-803c-45ac-b212-bb443319c900"
      },
      "outputs": [
        {
          "output_type": "stream",
          "name": "stdout",
          "text": [
            "Accuracy: 53.53%\n"
          ]
        }
      ],
      "source": [
        "# Train the model\n",
        "model = RandomForestClassifier(n_jobs=-1)\n",
        "model.fit(X_train, y_train)\n",
        "\n",
        "# Evaluate the model on the test set\n",
        "accuracy = model.score(X_test, y_test)\n",
        "print('Accuracy: {0:.2f}%'.format(accuracy*100))"
      ]
    },
    {
      "cell_type": "code",
      "execution_count": null,
      "metadata": {
        "id": "tohkHxE1JObs",
        "colab": {
          "base_uri": "https://localhost:8080/"
        },
        "outputId": "dda34e19-8b45-413b-a30d-85dd9c721691"
      },
      "outputs": [
        {
          "output_type": "stream",
          "name": "stdout",
          "text": [
            "Accuracy: 49.95%\n"
          ]
        }
      ],
      "source": [
        "# Train the model\n",
        "model = SVC()\n",
        "model.fit(X_train, y_train)\n",
        "\n",
        "# Evaluate the model on the test set\n",
        "accuracy = model.score(X_test, y_test)\n",
        "print('Accuracy: {0:.2f}%'.format(accuracy*100))"
      ]
    }
  ],
  "metadata": {
    "colab": {
      "provenance": [],
      "include_colab_link": true
    },
    "kernelspec": {
      "display_name": "Python 3",
      "name": "python3"
    },
    "language_info": {
      "name": "python"
    }
  },
  "nbformat": 4,
  "nbformat_minor": 0
}